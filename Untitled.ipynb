{
 "cells": [
  {
   "cell_type": "code",
   "execution_count": null,
   "id": "f77206e9",
   "metadata": {},
   "outputs": [],
   "source": [
    "import os\n",
    "from comdl.apis.train import MMDetTrainer, get_configs\n",
    "from comdl.apis.inference import InferenceModel\n",
    "from comdl.utils.train_utils import is_key_present, add_key\n",
    "import numpy as np\n",
    "import cv2\n",
    "import torch\n",
    "%load_ext autoreload\n",
    "%autoreload 2"
   ]
  },
  {
   "cell_type": "code",
   "execution_count": null,
   "id": "315013dd",
   "metadata": {},
   "outputs": [],
   "source": [
    "import torch"
   ]
  },
  {
   "cell_type": "code",
   "execution_count": null,
   "id": "394b9ab4",
   "metadata": {},
   "outputs": [],
   "source": [
    "m = torch.load(r\"001.pt\")\n",
    "# m['custom_data'] = {'structure_indices': [1],\n",
    "#  'image_size': 512,\n",
    "#  'modeltype': 'object detection',\n",
    "#  'object_based': False,\n",
    "#  'physical_tile_size': (0.0, 0.0),\n",
    "#  'project_type': 'dummy',\n",
    "#  'pyramid_level': -1,\n",
    "#  'datetime': '14/12/2021 11:49',\n",
    "#  'structures': 'Blutzelle',\n",
    "#  'objects_count': 3606,\n",
    "#  'model': 'fasterrcnn',\n",
    "#  'files': {'File': ['14.1.jpg', '15.1.jpg'], 'Scene': [1, 1]}}\n",
    "# torch.save(m, \"001.pt\")"
   ]
  },
  {
   "cell_type": "code",
   "execution_count": null,
   "id": "3c62a515",
   "metadata": {},
   "outputs": [],
   "source": [
    "m['custom_data']"
   ]
  },
  {
   "cell_type": "code",
   "execution_count": null,
   "id": "431791ec",
   "metadata": {},
   "outputs": [],
   "source": [
    "torch.load(r\"D:\\Hsa\\temp\\custom_models\\verified_models\\Custom - glom\\instance_seg\\001.pt\")['custom_data']"
   ]
  },
  {
   "cell_type": "code",
   "execution_count": null,
   "id": "a490fef2",
   "metadata": {},
   "outputs": [],
   "source": [
    "get_configs()['swin']"
   ]
  },
  {
   "cell_type": "code",
   "execution_count": null,
   "id": "88f20582",
   "metadata": {},
   "outputs": [],
   "source": [
    "os.path.join(\"/\".join(mmdet.__file__.split(\"\\\\\")[:-1]),\".mim\", \"configs\")"
   ]
  },
  {
   "cell_type": "code",
   "execution_count": null,
   "id": "0280140b",
   "metadata": {},
   "outputs": [],
   "source": [
    "import mmdet.core"
   ]
  },
  {
   "cell_type": "code",
   "execution_count": null,
   "id": "86b0102c",
   "metadata": {},
   "outputs": [],
   "source": [
    "base_config = list(filter(lambda x:\"_l_\" in x, get_configs()[\"yolox\"]))[0]"
   ]
  },
  {
   "cell_type": "code",
   "execution_count": null,
   "id": "3b9c6e4f",
   "metadata": {},
   "outputs": [],
   "source": [
    "base_config"
   ]
  },
  {
   "cell_type": "code",
   "execution_count": null,
   "id": "cb141692",
   "metadata": {},
   "outputs": [],
   "source": [
    "list(filter(lambda x:\"r50_fpn_1x_coco\" in x, get_configs()[\"cascade_rcnn\"]))[0]"
   ]
  },
  {
   "cell_type": "code",
   "execution_count": null,
   "id": "793201b7",
   "metadata": {
    "scrolled": true
   },
   "outputs": [],
   "source": [
    "nc = 1\n",
    "#base_config = r'C:/Users/phili/miniconda3/lib/site-packages/mmdet\\\\.mim\\\\configs\\\\detectors\\\\detectors_htc_r50_1x_coco.py'\n",
    "#base_config=r'C:/Users/phili/miniconda3/lib/site-packages/mmdet\\\\configs\\\\yolox\\\\yolox_m_8x8_300e_coco.py'\n",
    "base_config = r'C:/Users/phili/miniconda3/lib/site-packages/mmdet\\\\configs\\\\mask_rcnn\\\\mask_rcnn_r50_fpn_1x_coco.py'\n",
    "#base_config = r'C:/Users/phili/miniconda3/lib/site-packages/mmdet\\\\configs\\\\faster_rcnn\\\\faster_rcnn_r50_fpn_1x_coco.py'\n",
    "#base_config = r'C:/Users/phili/miniconda3/lib/site-packages/mmdet\\\\configs\\\\detr\\\\detr_r50_8x2_150e_coco.py'\n",
    "#base_config = r'C:/Users/phili/miniconda3/envs/mm/lib/site-packages/mmdet\\\\.mim\\\\configs\\\\cascade_rcnn\\\\cascade_mask_rcnn_x101_32x4d_fpn_1x_coco.py'\n",
    "#base_config = r'C:/Users/phili/miniconda3/lib/site-packages/mmdet\\\\.mim\\\\configs\\\\faster_rcnn\\\\faster_rcnn_r50_fpn_1x_coco.py'\n",
    "#base_config = r'C:/Users/phili/miniconda3/lib/site-packages/mmdet\\\\.mim\\\\configs\\\\yolox\\\\yolox_m_8x8_300e_coco.py'\n",
    "base_config = list(filter(lambda x:\"r50_fpn_1x_coco\" in x, get_configs()[\"faster_rcnn\"]))[0]\n",
    "base_config = list(filter(lambda x:\"_s_\" in x, get_configs()[\"yolox\"]))[0]\n",
    "#base_config = get_configs()['swin'][3]\n",
    "work_dir = r\"F:\\source\\repos\\InferenceDL\\Exp\"\n",
    "batch_size = 2\n",
    "workers = 0\n",
    "dataroot = r\"F:\\source\\repos\\Daten\\Glomeruli\\trainer\"\n",
    "dataroot = r\"F:\\source\\repos\\Daten\\Erethorzyten\"\n",
    "dataroot = r\"D:\\Hsa\\temp\\projects\\34450753-b808-492c-b16a-1de6be54fc40\\dataset\"\n",
    "dataroot = r\"F:\\source\\repos\\Daten\\Furtwangen\\dataset\"\n",
    "# dataroot = r\"F:\\source\\repos\\Daten\\Erethorzyten\"\n",
    "# dataroot = r\"F:\\source\\repos\\Daten\\TubulusMMDet\"\n",
    "# dataroot = r\"F:\\source\\repos\\Daten\\Her2Final\"\n",
    "dataroot = r\"F:\\source\\repos\\Daten\\gammher2\"\n",
    "#load_from = r\"F:\\source\\repos\\InferenceDL\\Exp\\epoch_20.pth\"\n",
    "#load_from = r\"F:\\downloads\\faster_rcnn_r50_fpn_1x_coco_20200130-047c8118.pth\"\n",
    "#load_from = r\"F:\\downloads\\mask_rcnn_swin-t-p4-w7_fpn_1x_coco_20210902_120937-9d6b7cfa.pth\"\n",
    "#load_from = r\"F:\\downloads\\yolox_l_8x8_300e_coco_20211126_140236-d3bd2b23.pth\"\n",
    "#load_from = r\"D:\\Hsa\\temp\\custom_models\\verified_models\\Custom - GlomeruliNeuesFramework\\instance_seg\\001.pt\"\n",
    "#resume_from = r\"F:\\source\\repos\\InferenceDL\\Exp\\best_bbox_mAP_epoch_16.pth\"\n",
    "#load_from = r\"F:\\source\\repos\\InferenceDL\\Erithro\\best_bbox_mAP_epoch_2.pth\"\n",
    "load_from = r\"F:\\downloads\\yolox_s_8x8_300e_coco_20211121_095711-4592a793.pth\"\n",
    "img_scale = (800, 1333)\n",
    "img_scale = (640, 640)\n",
    "\n",
    "\n",
    "\n",
    "#img_scale=(640,640)\n",
    "# trainer.cfg.lr_config = dict(\n",
    "#     policy='CosineAnnealing', # The policy of scheduler, also support CosineAnnealing, Cyclic, etc. Refer to details of supported LrUpdater from https://github.com/open-mmlab/mmcv/blob/master/mmcv/runner/hooks/lr_updater.py#L9.\n",
    "#     by_epoch=False,\n",
    "#     warmup='linear', # The warmup policy, also support `exp` and `constant`.\n",
    "#     warmup_iters=500, # The number of iterations for warmup\n",
    "#     warmup_ratio=0.001, # The ratio of the starting learning rate used for warmup\n",
    "#     min_lr=1e-07)\n",
    "\n",
    "custom_data ={'structure_indices': [2],\n",
    " 'image_size': 256,\n",
    " 'modeltype': 'instance segmentation',\n",
    " 'object_based': False,\n",
    " 'physical_tile_size': (0.0, 0.0),\n",
    " 'project_type': 'dummy',\n",
    " 'pyramid_level': -1,\n",
    " 'datetime': '14/12/2021 11:49',\n",
    " 'structures': 'Blutzelle',\n",
    " 'objects_count': 3606,\n",
    " 'model': 'maskrcnn',\n",
    " 'files': {'File': ['14.1.jpg', '15.1.jpg'], 'Scene': [1, 1]}}\n",
    "\n",
    "\n",
    "custom_data = {'structure_indices': [16, 17, 18, 19], 'image_size': 256, 'modeltype': 'instance segmentation', 'object_based': False, 'physical_tile_size': (113.19408504630164, 113.19408504630164), 'project_type': 'dummy', 'pyramid_level': -1, 'datetime': '01/12/2021 18:09', 'structures': 'Tumor Cells 0+, Tumor Cells 1+, Tumor Cells 2+, Tumor Cells 3+', 'objects_count': 31002, 'model': 'maskrcnn', 'files': {'File': ['05_.czi', '05_.czi', '05_.czi', '05_.czi'], 'Scene': [2, 2, 2, 2]}}\n",
    "#custom_data = {'structure_indices': [2], 'image_size': 512, 'modeltype': 'instance segmentation', 'object_based': False, 'physical_tile_size': (113.19408504630164, 113.19408504630164), 'project_type': 'dummy', 'pyramid_level': -1, 'datetime': '01/12/2021 18:09', 'structures': 'Tumor Cells 0+, Tumor Cells 1+, Tumor Cells 2+, Tumor Cells 3+', 'objects_count': 31002, 'model': 'maskrcnn', 'files': {'File': ['05_.czi', '05_.czi', '05_.czi', '05_.czi'], 'Scene': [2, 2, 2, 2]}}\n",
    "trainer = MMDetTrainer(nc, base_config, work_dir, batch_size, workers, dataroot,\n",
    "                       max_per_image = 100, rpn_max_per_image = 2000,\n",
    "                       load_from = load_from, epochs = 300,\n",
    "                       img_scale = img_scale, eval_interval = 1,\n",
    "                       class_agnostic = False, custom_data = custom_data)\n",
    "trainer.cfg.lr_config = dict(\n",
    "    policy='CosineAnnealing', # The policy of scheduler, also support CosineAnnealing, Cyclic, etc. Refer to details of supported LrUpdater from https://github.com/open-mmlab/mmcv/blob/master/mmcv/runner/hooks/lr_updater.py#L9.\n",
    "    by_epoch=False,\n",
    "    warmup='linear', # The warmup policy, also support `exp` and `constant`.\n",
    "    warmup_iters=500, # The number of iterations for warmup\n",
    "    warmup_ratio=0.001, # The ratio of the starting learning rate used for warmup\n",
    "    min_lr=1e-07)\n",
    "#trainer.cfg.resume_from = resume_from\n",
    "trainer.cfg.device ='cuda'\n",
    "# trainer.cfg.lr_config = dict(\n",
    "#     policy='step',\n",
    "#     warmup='linear',\n",
    "#     warmup_iters=500,\n",
    "#     warmup_ratio=0.001,\n",
    "#     step=[20, 38])\n",
    "trainer.train()"
   ]
  },
  {
   "cell_type": "code",
   "execution_count": null,
   "id": "8aeece3c",
   "metadata": {},
   "outputs": [],
   "source": []
  },
  {
   "cell_type": "code",
   "execution_count": null,
   "id": "4d2f1175",
   "metadata": {},
   "outputs": [],
   "source": [
    "get_configs()"
   ]
  },
  {
   "cell_type": "code",
   "execution_count": null,
   "id": "eeb51224",
   "metadata": {},
   "outputs": [],
   "source": [
    "from mmdet.core import AnchorGenerator"
   ]
  },
  {
   "cell_type": "code",
   "execution_count": null,
   "id": "2783d0e8",
   "metadata": {},
   "outputs": [],
   "source": [
    "AnchorGenerator(scales = [8], ratios = [0.5, 1.0, 2.0], strides = [16, 32, 16, 32, 64])"
   ]
  },
  {
   "cell_type": "code",
   "execution_count": null,
   "id": "10fb794e",
   "metadata": {},
   "outputs": [],
   "source": [
    "trainer.cfg.model.rpn_head.anchor_generator"
   ]
  },
  {
   "cell_type": "code",
   "execution_count": null,
   "id": "dfc1b6ea",
   "metadata": {},
   "outputs": [],
   "source": [
    "add_key(trainer.cfg.model.rpn_head.anchor_generator, \"scales\", \"base_sizes\", [32,64,128,256,512])"
   ]
  },
  {
   "cell_type": "code",
   "execution_count": null,
   "id": "fa8dd5a9",
   "metadata": {},
   "outputs": [],
   "source": [
    "data = torch.load(r\"F:\\source\\repos\\InferenceDL\\Erithro\\best_bbox_mAP_epoch_37.pth\", map_location=torch.device(\"cpu\"))\n",
    "data['custom_data'] = custom_data\n",
    "torch.save(data, os.path.join(r\"F:\\source\\repos\\InferenceDL\\Exp\", \"tubulus.pt\"))"
   ]
  },
  {
   "cell_type": "code",
   "execution_count": null,
   "id": "942772c3",
   "metadata": {},
   "outputs": [],
   "source": [
    "is_key_present(trainer.cfg.evaluation, \"save_best\")"
   ]
  },
  {
   "cell_type": "code",
   "execution_count": null,
   "id": "8ed6ab91",
   "metadata": {},
   "outputs": [],
   "source": [
    "import os\n",
    "import torch\n",
    "bests = []\n",
    "for file in os.listdir(r\"F:\\source\\repos\\InferenceDL\"):\n",
    "    if(\"best\" in file):\n",
    "        bests.append(file)\n",
    "bests = sorted(bests, key = lambda x:int(x.split(\"epoch_\")[-1].replace(\".pth\", \"\")))"
   ]
  },
  {
   "cell_type": "code",
   "execution_count": null,
   "id": "e1fd711b",
   "metadata": {},
   "outputs": [],
   "source": [
    "data = torch.load(bests[-1])"
   ]
  },
  {
   "cell_type": "code",
   "execution_count": null,
   "id": "09c23f55",
   "metadata": {},
   "outputs": [],
   "source": [
    "data['custom_data'] = \"xd\""
   ]
  },
  {
   "cell_type": "code",
   "execution_count": null,
   "id": "45242e3c",
   "metadata": {},
   "outputs": [],
   "source": [
    "trainer.cfg.dump(\"xd.py\")"
   ]
  },
  {
   "cell_type": "code",
   "execution_count": null,
   "id": "f8e264b3",
   "metadata": {},
   "outputs": [],
   "source": [
    "from mmcv import Config"
   ]
  },
  {
   "cell_type": "code",
   "execution_count": null,
   "id": "0b1cb454",
   "metadata": {},
   "outputs": [],
   "source": [
    "cfg = Config.fromfile(base_config)"
   ]
  },
  {
   "cell_type": "code",
   "execution_count": null,
   "id": "00b9314b",
   "metadata": {},
   "outputs": [],
   "source": [
    "dict(trainer.cfg)"
   ]
  },
  {
   "cell_type": "code",
   "execution_count": null,
   "id": "980ec60a",
   "metadata": {},
   "outputs": [],
   "source": [
    "trainer.train()"
   ]
  },
  {
   "cell_type": "code",
   "execution_count": null,
   "id": "3cf00d75",
   "metadata": {},
   "outputs": [],
   "source": [
    "trainer.cfg.num_proposals = 750"
   ]
  },
  {
   "cell_type": "code",
   "execution_count": null,
   "id": "42b1b08d",
   "metadata": {},
   "outputs": [],
   "source": [
    "dict(trainer.cfg)"
   ]
  },
  {
   "cell_type": "code",
   "execution_count": null,
   "id": "b4184749",
   "metadata": {},
   "outputs": [],
   "source": [
    "dict(cfg)"
   ]
  },
  {
   "cell_type": "code",
   "execution_count": null,
   "id": "4f7e4a44",
   "metadata": {},
   "outputs": [],
   "source": [
    "trainer.cfg.optimizer_config = dict(grad_clip=dict(max_norm=35, norm_type=1))"
   ]
  },
  {
   "cell_type": "code",
   "execution_count": null,
   "id": "938d4956",
   "metadata": {},
   "outputs": [],
   "source": [
    "trainer.cfg.resume_from = r\"F:\\source\\repos\\InferenceDL\\latest.pth\""
   ]
  },
  {
   "cell_type": "code",
   "execution_count": null,
   "id": "93164092",
   "metadata": {},
   "outputs": [],
   "source": [
    "config_file = r\"F:\\source\\repos\\InferenceDL\\Exp\\config.py\"\n",
    "checkpoint_file = r\"F:\\source\\repos\\InferenceDL\\Exp\\best_bbox_mAP_epoch_36.pth\"\n",
    "model = InferenceModel(config_file, checkpoint_file)"
   ]
  },
  {
   "cell_type": "code",
   "execution_count": null,
   "id": "833e464d",
   "metadata": {},
   "outputs": [],
   "source": [
    "model(r\"C:\\Users\\phili\\Downloads\\Telegram Desktop\\ValentinNeueBilder\\dataset\\valid\\images\\26922354.9.20MIB1_0s_0r_1008x_1680y_.png\")"
   ]
  },
  {
   "cell_type": "code",
   "execution_count": null,
   "id": "0abbb540",
   "metadata": {},
   "outputs": [],
   "source": [
    "model = torch.load(r\"F:\\source\\repos\\InferenceDL\\Exp\\best_bbox_mAP_epoch_6.pth\")"
   ]
  },
  {
   "cell_type": "code",
   "execution_count": null,
   "id": "6e3809b1",
   "metadata": {},
   "outputs": [],
   "source": [
    "model['custom_data'] = {\"structure_indices\" : [2], \"image_size\": 2048, \"object_based\" : False}"
   ]
  },
  {
   "cell_type": "code",
   "execution_count": null,
   "id": "f43485c3",
   "metadata": {},
   "outputs": [],
   "source": [
    "torch.save(model, \"\")"
   ]
  },
  {
   "cell_type": "code",
   "execution_count": null,
   "id": "7464e055",
   "metadata": {},
   "outputs": [],
   "source": []
  },
  {
   "cell_type": "code",
   "execution_count": null,
   "id": "97b13e90",
   "metadata": {},
   "outputs": [],
   "source": [
    "img = cv2.imread(r\"F:\\source\\repos\\YOLOX\\datasets\\valentin128\\train2017\\26922354.9.20MIB1_0s_0r_336x_336y_.png\") #bgr "
   ]
  },
  {
   "cell_type": "code",
   "execution_count": null,
   "id": "b2259ba5",
   "metadata": {},
   "outputs": [],
   "source": [
    "result = model(img)"
   ]
  },
  {
   "cell_type": "code",
   "execution_count": null,
   "id": "4e2d35da",
   "metadata": {},
   "outputs": [],
   "source": [
    "result.s"
   ]
  },
  {
   "cell_type": "code",
   "execution_count": null,
   "id": "2fc48844",
   "metadata": {},
   "outputs": [],
   "source": [
    "#D:\\Hsa\\temp\\projects\\addcf8c0-35b4-4df5-820b-54fe510357bc\\dataset\\train\\images\\ANCA_057_PAS_1s_0r_992x_1984y_.png\n",
    "#D:\\Hsa\\temp\\projects\\addcf8c0-35b4-4df5-820b-54fe510357bc\\dataset\\train\\images\\ANCA_057_PAS_1s_0r_3968x_1984y_.png\n",
    "img = cv2.imread(r\"F:\\source\\repos\\Daten\\gammher2\\val2017\\10_22d_Gr1T3_Milz_1s_24r_0x_248y_.png\") #bgr \n",
    "img = cv2.resize(img, (256, 256), interpolation = cv2.INTER_AREA)\n",
    "result = model(img)\n",
    "colors = [(255,0,0), (0,255,0), (0,0,255), (255,255,255)]\n",
    "candidates = []\n",
    "\n",
    "threshold = 0.10\n",
    "empty = np.zeros((256, 256, 3))\n",
    "for i in range(len(result[0])):\n",
    "    for res, seg in zip(result[0][i], result[1][i]):\n",
    "        bbox = res[:4].astype(int)\n",
    "        score = res[4].astype(float)\n",
    "        #print(score)\n",
    "        if score < threshold:\n",
    "            continue\n",
    "        pts = np.where(seg.astype(float) > 0)\n",
    "        candidates.append((score, bbox,pts, i))\n",
    "        \n",
    "        #if np.count_nonzero(empty[pts[0], pts[1]]) <= 0:\n",
    "        #cv2.rectangle(empty, (bbox[0], bbox[1]), (bbox[2], bbox[3]), color = 255, thickness = 1)\n",
    "        #empty[pts[0], pts[1]] = colors[i]\n",
    "            \n",
    "#candidates.sort(key=lambda x: x[0], reverse = True)\n",
    "\n",
    "\n",
    "\n",
    "\n",
    "bboxs=[]\n",
    "for cand in candidates:\n",
    "    score = cand[0]\n",
    "    bbox = cand[1]\n",
    "    pts = cand[2]\n",
    "    \n",
    "    cls = cand[3]\n",
    "    def check_box(y,x, size = 2):\n",
    "        if np.count_nonzero(empty[y-size:y+size, x-size:x+size]) != 0:\n",
    "            return False\n",
    "        return True\n",
    "    to_add = []\n",
    "    for y, x in zip(pts[0], pts[1]):\n",
    "        if(check_box(y,x)):\n",
    "            to_add.append((y,x))\n",
    "    for y,x in to_add:\n",
    "        empty[y,x] = colors[cls]\n",
    "    bboxs.append(((bbox[0], bbox[1]), (bbox[2], bbox[3])))\n",
    "# for a,b in bboxs:\n",
    "#     cv2.rectangle(empty, a, b, color = (255,255,255), thickness = 1)\n",
    "cv2.imwrite(\"xd3.png\", empty)"
   ]
  },
  {
   "cell_type": "code",
   "execution_count": null,
   "id": "8dfb7bcc",
   "metadata": {},
   "outputs": [],
   "source": [
    "print(list(map(lambda x: x[0], candidates)))"
   ]
  },
  {
   "cell_type": "code",
   "execution_count": null,
   "id": "45e7405b",
   "metadata": {},
   "outputs": [],
   "source": []
  },
  {
   "cell_type": "code",
   "execution_count": null,
   "id": "a391f28e",
   "metadata": {},
   "outputs": [],
   "source": [
    "import numpy as np\n",
    "np.array(result).shape"
   ]
  },
  {
   "cell_type": "code",
   "execution_count": null,
   "id": "d4dd6efc",
   "metadata": {},
   "outputs": [],
   "source": [
    "len(np.array(result).shape) == 1 # 2 is instance seg"
   ]
  },
  {
   "cell_type": "code",
   "execution_count": null,
   "id": "b31f6ffe",
   "metadata": {},
   "outputs": [],
   "source": [
    "img = cv2.imread(r\"F:\\source\\repos\\Daten\\Furtwangen\\dataset\\train2017\\LFAImageR1_0.png\") #bgr \n",
    "result = model(img)\n",
    "colors = [(255,0,0), (0,255,0), (0,0,255), (255,255,255)]\n",
    "to_draw = img.copy()\n",
    "threshold = 0.99\n",
    "\n",
    "for i in range(len(result)):\n",
    "    for res in result[i]:\n",
    "        bbox = res[:4].astype(int)\n",
    "        score = res[4].astype(float)\n",
    "        if score < threshold:\n",
    "            continue\n",
    "        cv2.rectangle(to_draw, (bbox[0], bbox[1]), (bbox[2], bbox[3]), color = colors[i], thickness = 1)\n",
    "cv2.imwrite( \"xd.png\", to_draw)"
   ]
  },
  {
   "cell_type": "code",
   "execution_count": null,
   "id": "4bfa4dea",
   "metadata": {},
   "outputs": [],
   "source": [
    "import cv2\n",
    "import os\n",
    "import numpy as np"
   ]
  },
  {
   "cell_type": "code",
   "execution_count": null,
   "id": "91c3e2b4",
   "metadata": {},
   "outputs": [],
   "source": [
    "folder = r\"F:\\source\\repos\\Daten\\Glomeruli\\trainer\\labels\""
   ]
  },
  {
   "cell_type": "code",
   "execution_count": null,
   "id": "af932051",
   "metadata": {},
   "outputs": [],
   "source": [
    "for file in os.listdir(folder):\n",
    "    im = cv2.imread(os.path.join(folder, file), 0)\n",
    "    im[im > 0] = 255\n",
    "#     assert np.max(im) <= 1, f\"not for {file}\"\n",
    "#     if file == \"5483190_tile46x9.jpg\":\n",
    "#         print(np.max(im))\n",
    "    cv2.imwrite(os.path.join(folder, file), im)"
   ]
  },
  {
   "cell_type": "code",
   "execution_count": null,
   "id": "78dbb396",
   "metadata": {},
   "outputs": [],
   "source": [
    "for file in os.listdir(folder):\n",
    "    im = cv2.imread(os.path.join(folder, file), 0)\n",
    "    if np.max(im) > 1:\n",
    "        print(file)"
   ]
  },
  {
   "cell_type": "code",
   "execution_count": null,
   "id": "fb597494",
   "metadata": {},
   "outputs": [],
   "source": [
    "im = cv2.imread(os.path.join(folder, \"5483190_tile46x9.jpg\"), 0)"
   ]
  },
  {
   "cell_type": "code",
   "execution_count": null,
   "id": "6887f589",
   "metadata": {},
   "outputs": [],
   "source": [
    "im = np.ones((256,256))"
   ]
  },
  {
   "cell_type": "code",
   "execution_count": null,
   "id": "38831c0f",
   "metadata": {},
   "outputs": [],
   "source": [
    "np.max(im)"
   ]
  },
  {
   "cell_type": "code",
   "execution_count": null,
   "id": "4eee86dd",
   "metadata": {},
   "outputs": [],
   "source": [
    "im[im > 0] = 1"
   ]
  },
  {
   "cell_type": "code",
   "execution_count": null,
   "id": "99fa4747",
   "metadata": {},
   "outputs": [],
   "source": [
    "im[im > 0] = 0"
   ]
  },
  {
   "cell_type": "code",
   "execution_count": null,
   "id": "a47708b2",
   "metadata": {},
   "outputs": [],
   "source": [
    "im.max()"
   ]
  },
  {
   "cell_type": "code",
   "execution_count": null,
   "id": "c0cb283b",
   "metadata": {},
   "outputs": [],
   "source": [
    "im = cv2.imread(os.path.join(folder, \"5483190_tile46x9.jpg\"), 0)\n",
    "im[im > 0.0] = 1.0"
   ]
  },
  {
   "cell_type": "code",
   "execution_count": null,
   "id": "2a4bc316",
   "metadata": {},
   "outputs": [],
   "source": [
    "cv2.imwrite(os.path.join(r\"F:\\source\\repos\\YOLOX\", \"xd.jpg\"), im)"
   ]
  },
  {
   "cell_type": "code",
   "execution_count": null,
   "id": "6c35e3dc",
   "metadata": {},
   "outputs": [],
   "source": [
    "cv2.imread(os.path.join(r\"F:\\source\\repos\\YOLOX\", \"xd.jpg\"), 0).max()"
   ]
  },
  {
   "cell_type": "code",
   "execution_count": null,
   "id": "366c0c8c",
   "metadata": {},
   "outputs": [],
   "source": [
    "im"
   ]
  },
  {
   "cell_type": "code",
   "execution_count": null,
   "id": "e7f0a913",
   "metadata": {},
   "outputs": [],
   "source": []
  }
 ],
 "metadata": {
  "kernelspec": {
   "display_name": "Python 3",
   "language": "python",
   "name": "python3"
  },
  "language_info": {
   "codemirror_mode": {
    "name": "ipython",
    "version": 3
   },
   "file_extension": ".py",
   "mimetype": "text/x-python",
   "name": "python",
   "nbconvert_exporter": "python",
   "pygments_lexer": "ipython3",
   "version": "3.8.10"
  }
 },
 "nbformat": 4,
 "nbformat_minor": 5
}
