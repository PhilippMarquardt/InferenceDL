{
 "cells": [
  {
   "cell_type": "code",
   "execution_count": 1,
   "id": "f77206e9",
   "metadata": {},
   "outputs": [],
   "source": [
    "import os\n",
    "from comdl.apis.train import MMDetTrainer, get_configs\n",
    "from comdl.apis.inference import InferenceModel\n",
    "from comdl.utils.train_utils import is_key_present\n",
    "import numpy as np\n",
    "import cv2\n",
    "%load_ext autoreload\n",
    "%autoreload 2"
   ]
  },
  {
   "cell_type": "code",
   "execution_count": null,
   "id": "315013dd",
   "metadata": {},
   "outputs": [],
   "source": []
  },
  {
   "cell_type": "code",
   "execution_count": null,
   "id": "a490fef2",
   "metadata": {},
   "outputs": [],
   "source": [
    "get_configs()['detectors']"
   ]
  },
  {
   "cell_type": "code",
   "execution_count": null,
   "id": "88f20582",
   "metadata": {},
   "outputs": [],
   "source": [
    "os.path.join(\"/\".join(mmdet.__file__.split(\"\\\\\")[:-1]),\".mim\", \"configs\")"
   ]
  },
  {
   "cell_type": "code",
   "execution_count": null,
   "id": "0280140b",
   "metadata": {},
   "outputs": [],
   "source": [
    "import mmdet.core"
   ]
  },
  {
   "cell_type": "code",
   "execution_count": null,
   "id": "86b0102c",
   "metadata": {},
   "outputs": [],
   "source": [
    "mmdet.core"
   ]
  },
  {
   "cell_type": "code",
   "execution_count": 2,
   "id": "793201b7",
   "metadata": {
    "scrolled": true
   },
   "outputs": [],
   "source": [
    "nc = 1\n",
    "base_config = r'C:/Users/phili/miniconda3/lib/site-packages/mmdet\\\\.mim\\\\configs\\\\detectors\\\\detectors_htc_r50_1x_coco.py'\n",
    "#base_config=r'C:/Users/phili/miniconda3/lib/site-packages/mmdet\\\\configs\\\\yolox\\\\yolox_m_8x8_300e_coco.py'\n",
    "#base_config = r'C:/Users/phili/miniconda3/lib/site-packages/mmdet\\\\configs\\\\mask_rcnn\\\\mask_rcnn_r50_fpn_1x_coco.py'\n",
    "#base_config = r'C:/Users/phili/miniconda3/lib/site-packages/mmdet\\\\configs\\\\faster_rcnn\\\\faster_rcnn_r50_fpn_1x_coco.py'\n",
    "#base_config = r'C:/Users/phili/miniconda3/lib/site-packages/mmdet\\\\configs\\\\detr\\\\detr_r50_8x2_150e_coco.py'\n",
    "#base_config = r'C:/Users/phili/miniconda3/envs/mm/lib/site-packages/mmdet\\\\.mim\\\\configs\\\\cascade_rcnn\\\\cascade_mask_rcnn_x101_32x4d_fpn_1x_coco.py'\n",
    "#base_config = r'C:/Users/phili/miniconda3/lib/site-packages/mmdet\\\\.mim\\\\configs\\\\faster_rcnn\\\\faster_rcnn_r50_fpn_1x_coco.py'\n",
    "#base_config = r'C:/Users/phili/miniconda3/lib/site-packages/mmdet\\\\.mim\\\\configs\\\\yolox\\\\yolox_m_8x8_300e_coco.py'\n",
    "work_dir = r\"F:\\source\\repos\\InferenceDL\\Exp\"\n",
    "batch_size = 4\n",
    "workers = 2\n",
    "dataroot = r\"F:\\source\\repos\\YOLOX\\datasets\\Cml\"\n",
    "#load_from = r\"F:\\source\\repos\\InferenceDL\\Exp\\epoch_20.pth\"\n",
    "load_from = None\n",
    "#resume_from = r\"F:\\source\\repos\\InferenceDL\\latest.pth\"\n",
    "\n",
    "img_scale = (800, 1333)\n",
    "#img_scale = (640, 640)\n",
    "\n",
    "\n",
    "\n",
    "#img_scale=(640,640)\n",
    "# trainer.cfg.lr_config = dict(\n",
    "#     policy='CosineAnnealing', # The policy of scheduler, also support CosineAnnealing, Cyclic, etc. Refer to details of supported LrUpdater from https://github.com/open-mmlab/mmcv/blob/master/mmcv/runner/hooks/lr_updater.py#L9.\n",
    "#     by_epoch=False,\n",
    "#     warmup='linear', # The warmup policy, also support `exp` and `constant`.\n",
    "#     warmup_iters=500, # The number of iterations for warmup\n",
    "#     warmup_ratio=0.001, # The ratio of the starting learning rate used for warmup\n",
    "#     min_lr=1e-07)\n",
    "\n",
    "\n",
    "\n",
    "\n",
    "trainer = MMDetTrainer(nc, base_config, work_dir, batch_size, workers, dataroot,\n",
    "                       max_per_image = 100, rpn_max_per_image = 2000,\n",
    "                       load_from = load_from, epochs = 40,\n",
    "                       img_scale = img_scale, eval_interval = 1,\n",
    "                       class_agnostic = False)\n",
    "# trainer.cfg.lr_config = dict(\n",
    "#     policy='CosineAnnealing', # The policy of scheduler, also support CosineAnnealing, Cyclic, etc. Refer to details of supported LrUpdater from https://github.com/open-mmlab/mmcv/blob/master/mmcv/runner/hooks/lr_updater.py#L9.\n",
    "#     by_epoch=False,\n",
    "#     warmup='linear', # The warmup policy, also support `exp` and `constant`.\n",
    "#     warmup_iters=500, # The number of iterations for warmup\n",
    "#     warmup_ratio=0.001, # The ratio of the starting learning rate used for warmup\n",
    "#     min_lr=1e-07)\n",
    "trainer.cfg.lr_config = dict(\n",
    "    policy='step',\n",
    "    warmup='linear',\n",
    "    warmup_iters=500,\n",
    "    warmup_ratio=0.001,\n",
    "    step=[8, 11])\n",
    "#trainer.train()"
   ]
  },
  {
   "cell_type": "code",
   "execution_count": 3,
   "id": "fa8dd5a9",
   "metadata": {},
   "outputs": [
    {
     "data": {
      "text/plain": [
       "{'interval': 999999}"
      ]
     },
     "execution_count": 3,
     "metadata": {},
     "output_type": "execute_result"
    }
   ],
   "source": [
    "dict(trainer.cfg.checkpoint_config)"
   ]
  },
  {
   "cell_type": "code",
   "execution_count": null,
   "id": "942772c3",
   "metadata": {},
   "outputs": [],
   "source": [
    "is_key_present(trainer.cfg.evaluation, \"save_best\")"
   ]
  },
  {
   "cell_type": "code",
   "execution_count": null,
   "id": "8ed6ab91",
   "metadata": {},
   "outputs": [],
   "source": [
    "import os\n",
    "import torch\n",
    "bests = []\n",
    "for file in os.listdir(r\"F:\\source\\repos\\InferenceDL\"):\n",
    "    if(\"best\" in file):\n",
    "        bests.append(file)\n",
    "bests = sorted(bests, key = lambda x:int(x.split(\"epoch_\")[-1].replace(\".pth\", \"\")))"
   ]
  },
  {
   "cell_type": "code",
   "execution_count": null,
   "id": "e1fd711b",
   "metadata": {},
   "outputs": [],
   "source": [
    "data = torch.load(bests[-1])"
   ]
  },
  {
   "cell_type": "code",
   "execution_count": null,
   "id": "09c23f55",
   "metadata": {},
   "outputs": [],
   "source": [
    "data['custom_data'] = \"xd\""
   ]
  },
  {
   "cell_type": "code",
   "execution_count": null,
   "id": "45242e3c",
   "metadata": {},
   "outputs": [],
   "source": [
    "trainer.cfg.dump(\"xd.py\")"
   ]
  },
  {
   "cell_type": "code",
   "execution_count": null,
   "id": "f8e264b3",
   "metadata": {},
   "outputs": [],
   "source": [
    "from mmcv import Config"
   ]
  },
  {
   "cell_type": "code",
   "execution_count": null,
   "id": "0b1cb454",
   "metadata": {},
   "outputs": [],
   "source": [
    "cfg = Config.fromfile(base_config)"
   ]
  },
  {
   "cell_type": "code",
   "execution_count": null,
   "id": "00b9314b",
   "metadata": {},
   "outputs": [],
   "source": [
    "dict(trainer.cfg)"
   ]
  },
  {
   "cell_type": "code",
   "execution_count": null,
   "id": "980ec60a",
   "metadata": {},
   "outputs": [],
   "source": [
    "trainer.train()"
   ]
  },
  {
   "cell_type": "code",
   "execution_count": null,
   "id": "3cf00d75",
   "metadata": {},
   "outputs": [],
   "source": [
    "trainer.cfg.num_proposals = 750"
   ]
  },
  {
   "cell_type": "code",
   "execution_count": null,
   "id": "42b1b08d",
   "metadata": {},
   "outputs": [],
   "source": [
    "dict(trainer.cfg)"
   ]
  },
  {
   "cell_type": "code",
   "execution_count": null,
   "id": "b4184749",
   "metadata": {},
   "outputs": [],
   "source": [
    "dict(cfg)"
   ]
  },
  {
   "cell_type": "code",
   "execution_count": null,
   "id": "4f7e4a44",
   "metadata": {},
   "outputs": [],
   "source": [
    "trainer.cfg.optimizer_config = dict(grad_clip=dict(max_norm=35, norm_type=1))"
   ]
  },
  {
   "cell_type": "code",
   "execution_count": null,
   "id": "938d4956",
   "metadata": {},
   "outputs": [],
   "source": [
    "trainer.cfg.resume_from = r\"F:\\source\\repos\\InferenceDL\\latest.pth\""
   ]
  },
  {
   "cell_type": "code",
   "execution_count": null,
   "id": "93164092",
   "metadata": {},
   "outputs": [],
   "source": [
    "config_file = r\"F:\\source\\repos\\InferenceDL\\Exp\\config.py\"\n",
    "checkpoint_file = r\"F:\\source\\repos\\InferenceDL\\Exp\\best_bbox_mAP_epoch_9.pth\"\n",
    "model = InferenceModel(config_file, checkpoint_file)"
   ]
  },
  {
   "cell_type": "code",
   "execution_count": null,
   "id": "833e464d",
   "metadata": {},
   "outputs": [],
   "source": [
    "model(r\"C:\\Users\\phili\\Downloads\\Telegram Desktop\\ValentinNeueBilder\\dataset\\valid\\images\\26922354.9.20MIB1_0s_0r_1008x_1680y_.png\")"
   ]
  },
  {
   "cell_type": "code",
   "execution_count": null,
   "id": "0abbb540",
   "metadata": {},
   "outputs": [],
   "source": []
  },
  {
   "cell_type": "code",
   "execution_count": null,
   "id": "6e3809b1",
   "metadata": {},
   "outputs": [],
   "source": []
  },
  {
   "cell_type": "code",
   "execution_count": null,
   "id": "f43485c3",
   "metadata": {},
   "outputs": [],
   "source": []
  },
  {
   "cell_type": "code",
   "execution_count": null,
   "id": "7464e055",
   "metadata": {},
   "outputs": [],
   "source": []
  },
  {
   "cell_type": "code",
   "execution_count": null,
   "id": "97b13e90",
   "metadata": {},
   "outputs": [],
   "source": [
    "img = cv2.imread(r\"F:\\source\\repos\\YOLOX\\datasets\\valentin128\\train2017\\26922354.9.20MIB1_0s_0r_336x_336y_.png\") #bgr "
   ]
  },
  {
   "cell_type": "code",
   "execution_count": null,
   "id": "b2259ba5",
   "metadata": {},
   "outputs": [],
   "source": [
    "result = model(img)"
   ]
  },
  {
   "cell_type": "code",
   "execution_count": null,
   "id": "4e2d35da",
   "metadata": {},
   "outputs": [],
   "source": [
    "result.s"
   ]
  },
  {
   "cell_type": "code",
   "execution_count": null,
   "id": "2fc48844",
   "metadata": {},
   "outputs": [],
   "source": [
    "img = cv2.imread(r\"F:\\source\\repos\\YOLOX\\datasets\\Cml\\train2017\\14.1_0s_0r_5040x_240y_.png\") #bgr \n",
    "result = model(img)\n",
    "colors = [(255,0,0), (0,255,0), (0,0,255), (255,255,255)]\n",
    "candidates = []\n",
    "\n",
    "threshold = 0.6\n",
    "\n",
    "for i in range(len(result[0])):\n",
    "    for res, seg in zip(result[0][i], result[1][i]):\n",
    "        bbox = res[:4].astype(int)\n",
    "        score = res[4].astype(float)\n",
    "        #print(score)\n",
    "        if score < threshold:\n",
    "            continue\n",
    "        pts = np.where(seg.astype(float) > 0)\n",
    "        candidates.append((score, bbox,pts, i))\n",
    "        \n",
    "        #if np.count_nonzero(empty[pts[0], pts[1]]) <= 0:\n",
    "        #    cv2.rectangle(to_draw, (bbox[0], bbox[1]), (bbox[2], bbox[3]), color = colors[i], thickness = 2)\n",
    "        #    empty[pts[0], pts[1]] = colors[i]\n",
    "            \n",
    "candidates.sort(key=lambda x: x[0], reverse = True)\n",
    "\n",
    "\n",
    "\n",
    "empty = np.zeros((256, 256, 3))\n",
    "bboxs=[]\n",
    "for cand in candidates:\n",
    "    score = cand[0]\n",
    "    bbox = cand[1]\n",
    "    pts = cand[2]\n",
    "    cls = cand[3]\n",
    "    def check_box(y,x, size = 2):\n",
    "        if np.count_nonzero(empty[y-size:y+size, x-size:x+size]) != 0:\n",
    "            return False\n",
    "        return True\n",
    "    to_add = []\n",
    "    for y, x in zip(pts[0], pts[1]):\n",
    "        if(check_box(y,x)):\n",
    "            to_add.append((y,x))\n",
    "    for y,x in to_add:\n",
    "        empty[y,x] = colors[cls]\n",
    "    bboxs.append(((bbox[0], bbox[1]), (bbox[2], bbox[3])))\n",
    "for a,b in bboxs:\n",
    "    cv2.rectangle(empty, a, b, color = (255,255,255), thickness = 1)\n",
    "cv2.imwrite(\"xd.png\", empty)"
   ]
  },
  {
   "cell_type": "code",
   "execution_count": null,
   "id": "8dfb7bcc",
   "metadata": {},
   "outputs": [],
   "source": [
    "print(list(map(lambda x: x[0], candidates)))"
   ]
  },
  {
   "cell_type": "code",
   "execution_count": null,
   "id": "45e7405b",
   "metadata": {},
   "outputs": [],
   "source": []
  },
  {
   "cell_type": "code",
   "execution_count": null,
   "id": "a391f28e",
   "metadata": {},
   "outputs": [],
   "source": [
    "import numpy as np\n",
    "np.array(result).shape"
   ]
  },
  {
   "cell_type": "code",
   "execution_count": null,
   "id": "d4dd6efc",
   "metadata": {},
   "outputs": [],
   "source": [
    "len(np.array(result).shape) == 1 # 2 is instance seg"
   ]
  },
  {
   "cell_type": "code",
   "execution_count": null,
   "id": "b31f6ffe",
   "metadata": {},
   "outputs": [],
   "source": [
    "img = cv2.imread(r\"F:\\source\\repos\\YOLOX\\datasets\\her2\\train2017\\06__1s_3r_1888x_1416y_.png\") #bgr \n",
    "result = model(img)\n",
    "colors = [(255,0,0), (0,255,0), (0,0,255), (255,255,255)]\n",
    "to_draw = img.copy()\n",
    "threshold = 0.25\n",
    "\n",
    "for i in range(len(result)):\n",
    "    for res in result[i]:\n",
    "        bbox = res[:4].astype(int)\n",
    "        score = res[4].astype(float)\n",
    "        if score < threshold:\n",
    "            continue\n",
    "        cv2.rectangle(to_draw, (bbox[0], bbox[1]), (bbox[2], bbox[3]), color = colors[i], thickness = 1)\n",
    "cv2.imwrite(os.path.join(work_dir, \"xd.png\"), to_draw)"
   ]
  },
  {
   "cell_type": "code",
   "execution_count": null,
   "id": "4bfa4dea",
   "metadata": {},
   "outputs": [],
   "source": []
  }
 ],
 "metadata": {
  "kernelspec": {
   "display_name": "Python 3",
   "language": "python",
   "name": "python3"
  },
  "language_info": {
   "codemirror_mode": {
    "name": "ipython",
    "version": 3
   },
   "file_extension": ".py",
   "mimetype": "text/x-python",
   "name": "python",
   "nbconvert_exporter": "python",
   "pygments_lexer": "ipython3",
   "version": "3.8.10"
  }
 },
 "nbformat": 4,
 "nbformat_minor": 5
}
